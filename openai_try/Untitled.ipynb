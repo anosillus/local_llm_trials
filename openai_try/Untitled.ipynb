{
 "cells": [
  {
   "cell_type": "code",
   "execution_count": 1,
   "id": "04a779fe-78a3-4416-afca-5e8bcec5d66e",
   "metadata": {
    "tags": []
   },
   "outputs": [],
   "source": [
    "import pandas as pd"
   ]
  },
  {
   "cell_type": "code",
   "execution_count": 3,
   "id": "2110d38a-8186-4522-b305-0b6cf70889b4",
   "metadata": {
    "tags": []
   },
   "outputs": [],
   "source": [
    "a = pd.read_csv('great.csv')"
   ]
  },
  {
   "cell_type": "code",
   "execution_count": 4,
   "id": "21a35288-cf74-4ac0-b4b2-a40954ee27bd",
   "metadata": {
    "tags": []
   },
   "outputs": [
    {
     "data": {
      "text/html": [
       "<div>\n",
       "<style scoped>\n",
       "    .dataframe tbody tr th:only-of-type {\n",
       "        vertical-align: middle;\n",
       "    }\n",
       "\n",
       "    .dataframe tbody tr th {\n",
       "        vertical-align: top;\n",
       "    }\n",
       "\n",
       "    .dataframe thead th {\n",
       "        text-align: right;\n",
       "    }\n",
       "</style>\n",
       "<table border=\"1\" class=\"dataframe\">\n",
       "  <thead>\n",
       "    <tr style=\"text-align: right;\">\n",
       "      <th></th>\n",
       "      <th>Unnamed: 0</th>\n",
       "      <th>murakami</th>\n",
       "      <th>ogawa</th>\n",
       "      <th>murakami.1</th>\n",
       "    </tr>\n",
       "  </thead>\n",
       "  <tbody>\n",
       "    <tr>\n",
       "      <th>0</th>\n",
       "      <td>1</td>\n",
       "      <td>ぼくがまだ年若く、いまよりもっと傷つきやすい心を持っていた時分に、父がある忠告を与えてくれた...</td>\n",
       "      <td>まだ大人になりきれていなかった私が父に言われて、ずっと心の中で思い返していることがある。</td>\n",
       "      <td>僕がまだ年若く、心に傷を負いやすかったころ、父親がひとつ忠告を与えてくれた。その言葉について...</td>\n",
       "    </tr>\n",
       "    <tr>\n",
       "      <th>1</th>\n",
       "      <td>2</td>\n",
       "      <td>「ひとを批判したいような気持が起きた場合にはだな」と、父は言うのである「この世の中の人がみん...</td>\n",
       "      <td>「人のことをあれこれ言いたくなったら、ちょっと考えてみるがいい。この世の中、みんながみんな恵...</td>\n",
       "      <td>「誰かのことを批判したくなったときには、こう考えるようにするんだよ」と父は言った。「世間のす...</td>\n",
       "    </tr>\n",
       "    <tr>\n",
       "      <th>2</th>\n",
       "      <td>3</td>\n",
       "      <td>父はこれ以上多くを語らなかった。しかし、父とぼくとは、多くを語らずして人なみ以上に意を通じ合...</td>\n",
       "      <td>父はそれしか言わなかったが、もともと黙っていても通じるような親子なので、父が口数以上にものを...</td>\n",
       "      <td>父はそれ以上の細かい説明をしてくれなかったけれど、僕と父のあいだにはいつも、多くを語らずとも...</td>\n",
       "    </tr>\n",
       "  </tbody>\n",
       "</table>\n",
       "</div>"
      ],
      "text/plain": [
       "   Unnamed: 0                                           murakami  \\\n",
       "0           1  ぼくがまだ年若く、いまよりもっと傷つきやすい心を持っていた時分に、父がある忠告を与えてくれた...   \n",
       "1           2  「ひとを批判したいような気持が起きた場合にはだな」と、父は言うのである「この世の中の人がみん...   \n",
       "2           3  父はこれ以上多くを語らなかった。しかし、父とぼくとは、多くを語らずして人なみ以上に意を通じ合...   \n",
       "\n",
       "                                               ogawa  \\\n",
       "0       まだ大人になりきれていなかった私が父に言われて、ずっと心の中で思い返していることがある。   \n",
       "1  「人のことをあれこれ言いたくなったら、ちょっと考えてみるがいい。この世の中、みんながみんな恵...   \n",
       "2  父はそれしか言わなかったが、もともと黙っていても通じるような親子なので、父が口数以上にものを...   \n",
       "\n",
       "                                          murakami.1  \n",
       "0  僕がまだ年若く、心に傷を負いやすかったころ、父親がひとつ忠告を与えてくれた。その言葉について...  \n",
       "1  「誰かのことを批判したくなったときには、こう考えるようにするんだよ」と父は言った。「世間のす...  \n",
       "2  父はそれ以上の細かい説明をしてくれなかったけれど、僕と父のあいだにはいつも、多くを語らずとも...  "
      ]
     },
     "execution_count": 4,
     "metadata": {},
     "output_type": "execute_result"
    }
   ],
   "source": [
    "a"
   ]
  },
  {
   "cell_type": "code",
   "execution_count": null,
   "id": "f1f30c79-ccf7-4c30-8f2f-c86846642d52",
   "metadata": {},
   "outputs": [],
   "source": []
  },
  {
   "cell_type": "code",
   "execution_count": 16,
   "id": "c46fd701-6461-46c1-ac65-5574da8c42a5",
   "metadata": {
    "tags": []
   },
   "outputs": [
    {
     "data": {
      "text/plain": [
       "0    ぼくがまだ年若く、いまよりもっと傷つきやすい心を持っていた時分に、父がある忠告を与えてくれた...\n",
       "1    「ひとを批判したいような気持が起きた場合にはだな」と、父は言うのである「この世の中の人がみん...\n",
       "2    父はこれ以上多くを語らなかった。しかし、父とぼくとは、多くを語らずして人なみ以上に意を通じ合...\n",
       "Name: murakami, dtype: object"
      ]
     },
     "execution_count": 16,
     "metadata": {},
     "output_type": "execute_result"
    }
   ],
   "source": [
    "a.murakami"
   ]
  },
  {
   "cell_type": "code",
   "execution_count": 9,
   "id": "18db2093-0c7c-4d2b-a641-f6aae7624e9d",
   "metadata": {
    "tags": []
   },
   "outputs": [],
   "source": [
    "raw = \"\"\"\n",
    "In my younger and more vulnerable years my father gave me some advice that I've been turning over in my mind ever since.\n",
    "\n",
    "\"Whenever you feel like criticizing any one,\" he told me, \"just remember that all the people in this world haven't had the advantages that you've had.\"\n",
    "\n",
    "He didn't say any more but we've always been unusually communicative in a reserved way, and I understood that he meant a great deal more than that. In consequence I'm inclined to reserve all judgments, a habit that has opened up many curious natures to me and also made me the victim of not a few veteran bores. The abnormal mind is quick to detect and attach itself to this quality when it appears in a normal person, and so it came about that in college I was unjustly accused of being a politician, because I was privy to the secret griefs of wild, unknown men. Most of the confidences were unsought—frequently I have feigned sleep, preoccupation, or a hostile levity when I realized by some unmistakable sign that an intimate revelation was quivering on the horizon—for the intimate revelations of young men or at least the terms in which they express them are usually plagiaristic and marred by obvious suppressions. Reserving judgments is a matter of infinite hope. I am still a little afraid of missing something if I forget that, as my father snobbishly suggested, and I snobbishly repeat, a sense of the fundamental decencies is parcelled out unequally at birth.\n",
    "\"\"\""
   ]
  },
  {
   "cell_type": "code",
   "execution_count": 10,
   "id": "ec88512f-0e92-4ef9-8d03-48d21032ae53",
   "metadata": {
    "tags": []
   },
   "outputs": [],
   "source": [
    "order = \"\""
   ]
  },
  {
   "cell_type": "code",
   "execution_count": 11,
   "id": "794cb516-33d5-4065-ae90-3556ea2a4761",
   "metadata": {
    "tags": []
   },
   "outputs": [],
   "source": [
    "first = f\"\"\"\n",
    "以下の文章を日本語に翻訳して\n",
    "{order}\n",
    "{raw}\n",
    "\"\"\""
   ]
  },
  {
   "cell_type": "code",
   "execution_count": 17,
   "id": "be8fc7c6-2d6d-46fc-96d4-0e9a3fb23dbc",
   "metadata": {
    "tags": []
   },
   "outputs": [
    {
     "data": {
      "text/plain": [
       "'ぼくがまだ年若く、いまよりもっと傷つきやすい心を持っていた時分に、父がある忠告を与えてくれたけれど、爾来ぼくは、その忠告を、心の中でくりかえし反芻してきた。'"
      ]
     },
     "execution_count": 17,
     "metadata": {},
     "output_type": "execute_result"
    }
   ],
   "source": [
    "a.murakami[0]"
   ]
  },
  {
   "cell_type": "code",
   "execution_count": 23,
   "id": "2bf684bb-e734-4033-8f53-b90186b94467",
   "metadata": {
    "tags": []
   },
   "outputs": [],
   "source": [
    "second = f\"\"\"\n",
    "以下の文章を日本語に翻訳してください。\n",
    "そのときに、以下の翻訳を参考にしてください。\n",
    "その上で、この翻訳の特徴についても教えてください。\n",
    "{a.murakami[0]}\n",
    "{a.murakami[1]}\n",
    "翻訳対象の文章\n",
    "{raw}\n",
    "\"\"\""
   ]
  },
  {
   "cell_type": "code",
   "execution_count": 29,
   "id": "6f789486-03bc-4a2e-9ee1-810c0fbc60fe",
   "metadata": {
    "tags": []
   },
   "outputs": [],
   "source": [
    "fourth = f\"\"\"\n",
    "以下の文章を日本語にしてください。\n",
    "そのときに、以下の翻訳を参考にして、翻訳例を強く意識して作業をしてください。\n",
    "また翻訳したら、その結果に対して、文意が通るように、翻訳を再度、校正してください。\n",
    "翻訳に際し、正しい翻訳よりも自然な文体であることを意識してください。\n",
    "\n",
    "{a.murakami[0]}\n",
    "{a.murakami[1]}\n",
    "翻訳対象の文章\n",
    "{raw}\n",
    "\"\"\""
   ]
  },
  {
   "cell_type": "code",
   "execution_count": 41,
   "id": "3ca9bd34-0bc9-4ec1-9ed5-f0a02893bfde",
   "metadata": {
    "tags": []
   },
   "outputs": [],
   "source": [
    "fifth = f\"\"\"\n",
    "以下の文章を日本語にしてください。\n",
    "そのときに、以下の翻訳を参考にして、翻訳例を強く意識して作業をしてください。\n",
    "また翻訳したら、その結果に対して、文意が通るように、翻訳を再度、校正してください。\n",
    "翻訳に際し、正しい翻訳よりも自然な文体であることを意識してください。\n",
    "\n",
    "{a['murakami.1'][0]}\n",
    "{a['murakami.1'][1]}\n",
    "翻訳対象の文章\n",
    "{raw}\n",
    "\"\"\""
   ]
  },
  {
   "cell_type": "code",
   "execution_count": 37,
   "id": "b12f21bc-89b2-4e5d-9e4c-e4a363ba1f59",
   "metadata": {
    "tags": []
   },
   "outputs": [
    {
     "data": {
      "text/plain": [
       "0    僕がまだ年若く、心に傷を負いやすかったころ、父親がひとつ忠告を与えてくれた。その言葉について...\n",
       "1    「誰かのことを批判したくなったときには、こう考えるようにするんだよ」と父は言った。「世間のす...\n",
       "2    父はそれ以上の細かい説明をしてくれなかったけれど、僕と父のあいだにはいつも、多くを語らずとも...\n",
       "Name: murakami.1, dtype: object"
      ]
     },
     "execution_count": 37,
     "metadata": {},
     "output_type": "execute_result"
    }
   ],
   "source": [
    "a['murakami.1']"
   ]
  },
  {
   "cell_type": "code",
   "execution_count": 33,
   "id": "e32e35e7-91ed-4f94-ada7-5f4049e7d876",
   "metadata": {
    "tags": []
   },
   "outputs": [
    {
     "data": {
      "text/plain": [
       "Index(['Unnamed: 0', 'murakami', 'ogawa', 'murakami.1'], dtype='object')"
      ]
     },
     "execution_count": 33,
     "metadata": {},
     "output_type": "execute_result"
    }
   ],
   "source": [
    "a.columns"
   ]
  },
  {
   "cell_type": "code",
   "execution_count": null,
   "id": "013a163f-9360-48a9-ba47-18331167167d",
   "metadata": {},
   "outputs": [],
   "source": []
  },
  {
   "cell_type": "code",
   "execution_count": null,
   "id": "1d2bae69-19ea-4ce6-ad30-034a0196ab41",
   "metadata": {},
   "outputs": [],
   "source": [
    "import openai\n",
    "import os\n",
    "from datetime import datetime\n",
    "\n",
    "start_time = datetime.now()\n",
    "\n",
    "openai.api_key = os.getenv(\"OPENAI_API_KEY\")\n",
    "# model_name = \"gpt-4\"\n",
    "model_name = \"gpt-4\""
   ]
  },
  {
   "cell_type": "code",
   "execution_count": null,
   "id": "1551778f-30b6-44c5-8776-83274a80d3ab",
   "metadata": {},
   "outputs": [],
   "source": [
    "def write_question()\n",
    "    # write to output-${yyyymmddthhmmss}.txt\n",
    "    with open(f\"output-{model_name}-{datetime.now().strftime('%Y%m%dT%H%M%S')}-{question}.txt\", \"w\") as f:\n",
    "        f.write(f\"model: {model_name}\\n\")\n",
    "        f.write(\"time: \" + str(end_time - start_time) + \"\\n\")\n",
    "        f.write(\"question: \" + question + \"\\n\")\n",
    "        f.write(\"answer: \" + response.choices[0][\"message\"][\"content\"].strip() + \"\\n\")"
   ]
  },
  {
   "cell_type": "code",
   "execution_count": null,
   "id": "9d5f246f-48d4-4584-a0ad-82b340adcbfe",
   "metadata": {},
   "outputs": [],
   "source": [
    "def send_question(question):\n",
    "    response = openai.ChatCompletion.create(\n",
    "    model=model_name,\n",
    "    messages=[\n",
    "        {\"role\": \"user\", \"content\": question},\n",
    "    ],\n",
    "    )\n",
    "    return response"
   ]
  },
  {
   "cell_type": "code",
   "execution_count": null,
   "id": "bc4bab13-f6b4-418c-8826-3904a0146a67",
   "metadata": {},
   "outputs": [],
   "source": []
  },
  {
   "cell_type": "code",
   "execution_count": 25,
   "id": "6fd7c799-f694-4159-9561-aaf2569bb751",
   "metadata": {
    "tags": []
   },
   "outputs": [
    {
     "name": "stdout",
     "output_type": "stream",
     "text": [
      "私の若く、そしてもっと傷つきやすい年代に、父が私にあるアドバイスをくれたことがあって、それ以来ずっと私の心の中でその言葉を繰り返し考えている。\n",
      "\n",
      "「誰かを批判したいと思ったときは」と彼は私に言った、「この世の中の人たちがみんなあなたと同じように恵まれているわけではないということを思い出しなさい」\n",
      "\n",
      "彼はそれ以上何も言わなかったが、私たちはいつも無口ながらお互いによくコミュニケーションができていたので、彼はそれ以上のことを言わなくても私がよく理解していた。その結果、私はすべての判断を保留するようになった。この習慣は、私に多くの興味深い性格に出会わせてくれる一方で、数々の退屈なベテランたちの犠牲者にもなってしまった。異常な心は、正常な人にそれが現れたときにすぐに気づき、その特質に付着しようとする。そんなわけで、大学時代に、私は実際には政治家ではないのに、私が見知らぬ野生の男たちの秘密の悲しみを知ることができると、私は不当に政治家とみなされることがあった。ほとんどの信頼は求められていないものだったが、親密な告白が地平線に震えていることを誰にも知られずに伝えたいと思ったとき、私はよく眠り、焦点をしっかり当てたり、敵意をむき出しにしたりした。若い男たちの親密な告白は、少なくともそれを表現する言葉が、たいていの場合、盗作であり、明らかな抑圧によって台無しにされている。判断を保留することは、無限に希望を持ち続けることだ。私はまだ少し、父が気取って示唆し、私が気取って繰り返すように、基本的な道徳感覚が生まれつき均等に分配されていないということを忘れると、何か大切なことを見逃してしまうのではないかと恐れている。\n",
      "\n",
      "この翻訳の特徴として、日本語の文として自然でかつ、原文の意味や雰囲気を維持している点が挙げられます。また、日本語の文が長くならず、読みやすい文章になっている点も特徴の一つです。\n",
      "elapsed time: 0:01:44.313293\n"
     ]
    },
    {
     "ename": "OSError",
     "evalue": "[Errno 36] File name too long: 'output-gpt-4-20230403T202153-\\n以下の文章を日本語に翻訳してください。\\nそのときに、以下の翻訳を参考にしてください。\\nその上で、この翻訳の特徴についても教えてください。\\nぼくがまだ年若く、いまよりもっと傷つきやすい心を持っていた時分に、父がある忠告を与えてくれたけれど、爾来ぼくは、その忠告を、心の中でくりかえし反芻してきた。\\n「ひとを批判したいような気持が起きた場合にはだな」と、父は言うのである「この世の中の人がみんなおまえと同じように恵まれているわけではないということを、ちょっと思い出してみるのだ」\\n翻訳対象の文章\\n\\n\\nIn my younger and more vulnerable years my father gave me some advice that I\\'ve been turning over in my mind ever since.\\n\\n\"Whenever you feel like criticizing any one,\" he told me, \"just remember that all the people in this world haven\\'t had the advantages that you\\'ve had.\"\\n\\nHe didn\\'t say any more but we\\'ve always been unusually communicative in a reserved way, and I understood that he meant a great deal more than that. In consequence I\\'m inclined to reserve all judgments, a habit that has opened up many curious natures to me and also made me the victim of not a few veteran bores. The abnormal mind is quick to detect and attach itself to this quality when it appears in a normal person, and so it came about that in college I was unjustly accused of being a politician, because I was privy to the secret griefs of wild, unknown men. Most of the confidences were unsought—frequently I have feigned sleep, preoccupation, or a hostile levity when I realized by some unmistakable sign that an intimate revelation was quivering on the horizon—for the intimate revelations of young men or at least the terms in which they express them are usually plagiaristic and marred by obvious suppressions. Reserving judgments is a matter of infinite hope. I am still a little afraid of missing something if I forget that, as my father snobbishly suggested, and I snobbishly repeat, a sense of the fundamental decencies is parcelled out unequally at birth.\\n\\n.txt'",
     "output_type": "error",
     "traceback": [
      "\u001b[0;31m---------------------------------------------------------------------------\u001b[0m",
      "\u001b[0;31mOSError\u001b[0m                                   Traceback (most recent call last)",
      "Cell \u001b[0;32mIn[25], line 26\u001b[0m\n\u001b[1;32m     23\u001b[0m \u001b[38;5;28mprint\u001b[39m(\u001b[38;5;124mf\u001b[39m\u001b[38;5;124m\"\u001b[39m\u001b[38;5;124melapsed time: \u001b[39m\u001b[38;5;132;01m{\u001b[39;00mend_time\u001b[38;5;250m \u001b[39m\u001b[38;5;241m-\u001b[39m\u001b[38;5;250m \u001b[39mstart_time\u001b[38;5;132;01m}\u001b[39;00m\u001b[38;5;124m\"\u001b[39m)\n\u001b[1;32m     25\u001b[0m \u001b[38;5;66;03m# write to output-${yyyymmddthhmmss}.txt\u001b[39;00m\n\u001b[0;32m---> 26\u001b[0m \u001b[38;5;28;01mwith\u001b[39;00m \u001b[38;5;28;43mopen\u001b[39;49m\u001b[43m(\u001b[49m\u001b[38;5;124;43mf\u001b[39;49m\u001b[38;5;124;43m\"\u001b[39;49m\u001b[38;5;124;43moutput-\u001b[39;49m\u001b[38;5;132;43;01m{\u001b[39;49;00m\u001b[43mmodel_name\u001b[49m\u001b[38;5;132;43;01m}\u001b[39;49;00m\u001b[38;5;124;43m-\u001b[39;49m\u001b[38;5;132;43;01m{\u001b[39;49;00m\u001b[43mdatetime\u001b[49m\u001b[38;5;241;43m.\u001b[39;49m\u001b[43mnow\u001b[49m\u001b[43m(\u001b[49m\u001b[43m)\u001b[49m\u001b[38;5;241;43m.\u001b[39;49m\u001b[43mstrftime\u001b[49m\u001b[43m(\u001b[49m\u001b[38;5;124;43m'\u001b[39;49m\u001b[38;5;124;43m%\u001b[39;49m\u001b[38;5;124;43mY\u001b[39;49m\u001b[38;5;124;43m%\u001b[39;49m\u001b[38;5;124;43mm\u001b[39;49m\u001b[38;5;132;43;01m%d\u001b[39;49;00m\u001b[38;5;124;43mT\u001b[39;49m\u001b[38;5;124;43m%\u001b[39;49m\u001b[38;5;124;43mH\u001b[39;49m\u001b[38;5;124;43m%\u001b[39;49m\u001b[38;5;124;43mM\u001b[39;49m\u001b[38;5;124;43m%\u001b[39;49m\u001b[38;5;124;43mS\u001b[39;49m\u001b[38;5;124;43m'\u001b[39;49m\u001b[43m)\u001b[49m\u001b[38;5;132;43;01m}\u001b[39;49;00m\u001b[38;5;124;43m-\u001b[39;49m\u001b[38;5;132;43;01m{\u001b[39;49;00m\u001b[43mquestion\u001b[49m\u001b[38;5;132;43;01m}\u001b[39;49;00m\u001b[38;5;124;43m.txt\u001b[39;49m\u001b[38;5;124;43m\"\u001b[39;49m\u001b[43m,\u001b[49m\u001b[43m \u001b[49m\u001b[38;5;124;43m\"\u001b[39;49m\u001b[38;5;124;43mw\u001b[39;49m\u001b[38;5;124;43m\"\u001b[39;49m\u001b[43m)\u001b[49m \u001b[38;5;28;01mas\u001b[39;00m f:\n\u001b[1;32m     27\u001b[0m     f\u001b[38;5;241m.\u001b[39mwrite(\u001b[38;5;124mf\u001b[39m\u001b[38;5;124m\"\u001b[39m\u001b[38;5;124mmodel: \u001b[39m\u001b[38;5;132;01m{\u001b[39;00mmodel_name\u001b[38;5;132;01m}\u001b[39;00m\u001b[38;5;130;01m\\n\u001b[39;00m\u001b[38;5;124m\"\u001b[39m)\n\u001b[1;32m     28\u001b[0m     f\u001b[38;5;241m.\u001b[39mwrite(\u001b[38;5;124m\"\u001b[39m\u001b[38;5;124mtime: \u001b[39m\u001b[38;5;124m\"\u001b[39m \u001b[38;5;241m+\u001b[39m \u001b[38;5;28mstr\u001b[39m(end_time \u001b[38;5;241m-\u001b[39m start_time) \u001b[38;5;241m+\u001b[39m \u001b[38;5;124m\"\u001b[39m\u001b[38;5;130;01m\\n\u001b[39;00m\u001b[38;5;124m\"\u001b[39m)\n",
      "File \u001b[0;32m~/.pyenv/versions/3.10.9/envs/local_llm/lib/python3.10/site-packages/IPython/core/interactiveshell.py:284\u001b[0m, in \u001b[0;36m_modified_open\u001b[0;34m(file, *args, **kwargs)\u001b[0m\n\u001b[1;32m    277\u001b[0m \u001b[38;5;28;01mif\u001b[39;00m file \u001b[38;5;129;01min\u001b[39;00m {\u001b[38;5;241m0\u001b[39m, \u001b[38;5;241m1\u001b[39m, \u001b[38;5;241m2\u001b[39m}:\n\u001b[1;32m    278\u001b[0m     \u001b[38;5;28;01mraise\u001b[39;00m \u001b[38;5;167;01mValueError\u001b[39;00m(\n\u001b[1;32m    279\u001b[0m         \u001b[38;5;124mf\u001b[39m\u001b[38;5;124m\"\u001b[39m\u001b[38;5;124mIPython won\u001b[39m\u001b[38;5;124m'\u001b[39m\u001b[38;5;124mt let you open fd=\u001b[39m\u001b[38;5;132;01m{\u001b[39;00mfile\u001b[38;5;132;01m}\u001b[39;00m\u001b[38;5;124m by default \u001b[39m\u001b[38;5;124m\"\u001b[39m\n\u001b[1;32m    280\u001b[0m         \u001b[38;5;124m\"\u001b[39m\u001b[38;5;124mas it is likely to crash IPython. If you know what you are doing, \u001b[39m\u001b[38;5;124m\"\u001b[39m\n\u001b[1;32m    281\u001b[0m         \u001b[38;5;124m\"\u001b[39m\u001b[38;5;124myou can use builtins\u001b[39m\u001b[38;5;124m'\u001b[39m\u001b[38;5;124m open.\u001b[39m\u001b[38;5;124m\"\u001b[39m\n\u001b[1;32m    282\u001b[0m     )\n\u001b[0;32m--> 284\u001b[0m \u001b[38;5;28;01mreturn\u001b[39;00m \u001b[43mio_open\u001b[49m\u001b[43m(\u001b[49m\u001b[43mfile\u001b[49m\u001b[43m,\u001b[49m\u001b[43m \u001b[49m\u001b[38;5;241;43m*\u001b[39;49m\u001b[43margs\u001b[49m\u001b[43m,\u001b[49m\u001b[43m \u001b[49m\u001b[38;5;241;43m*\u001b[39;49m\u001b[38;5;241;43m*\u001b[39;49m\u001b[43mkwargs\u001b[49m\u001b[43m)\u001b[49m\n",
      "\u001b[0;31mOSError\u001b[0m: [Errno 36] File name too long: 'output-gpt-4-20230403T202153-\\n以下の文章を日本語に翻訳してください。\\nそのときに、以下の翻訳を参考にしてください。\\nその上で、この翻訳の特徴についても教えてください。\\nぼくがまだ年若く、いまよりもっと傷つきやすい心を持っていた時分に、父がある忠告を与えてくれたけれど、爾来ぼくは、その忠告を、心の中でくりかえし反芻してきた。\\n「ひとを批判したいような気持が起きた場合にはだな」と、父は言うのである「この世の中の人がみんなおまえと同じように恵まれているわけではないということを、ちょっと思い出してみるのだ」\\n翻訳対象の文章\\n\\n\\nIn my younger and more vulnerable years my father gave me some advice that I\\'ve been turning over in my mind ever since.\\n\\n\"Whenever you feel like criticizing any one,\" he told me, \"just remember that all the people in this world haven\\'t had the advantages that you\\'ve had.\"\\n\\nHe didn\\'t say any more but we\\'ve always been unusually communicative in a reserved way, and I understood that he meant a great deal more than that. In consequence I\\'m inclined to reserve all judgments, a habit that has opened up many curious natures to me and also made me the victim of not a few veteran bores. The abnormal mind is quick to detect and attach itself to this quality when it appears in a normal person, and so it came about that in college I was unjustly accused of being a politician, because I was privy to the secret griefs of wild, unknown men. Most of the confidences were unsought—frequently I have feigned sleep, preoccupation, or a hostile levity when I realized by some unmistakable sign that an intimate revelation was quivering on the horizon—for the intimate revelations of young men or at least the terms in which they express them are usually plagiaristic and marred by obvious suppressions. Reserving judgments is a matter of infinite hope. I am still a little afraid of missing something if I forget that, as my father snobbishly suggested, and I snobbishly repeat, a sense of the fundamental decencies is parcelled out unequally at birth.\\n\\n.txt'"
     ]
    }
   ],
   "source": [
    "import openai\n",
    "import os\n",
    "from datetime import datetime\n",
    "\n",
    "start_time = datetime.now()\n",
    "\n",
    "openai.api_key = os.getenv(\"OPENAI_API_KEY\")\n",
    "# model_name = \"gpt-4\"\n",
    "model_name = \"gpt-4\"\n",
    "\n",
    "question = second\n",
    "\n",
    "response = openai.ChatCompletion.create(\n",
    "    model=model_name,\n",
    "    messages=[\n",
    "        {\"role\": \"user\", \"content\": question},\n",
    "    ],\n",
    ")\n",
    "\n",
    "end_time = datetime.now()\n",
    "\n",
    "print(response.choices[0][\"message\"][\"content\"].strip())\n",
    "print(f\"elapsed time: {end_time - start_time}\")\n",
    "\n",
    "# write to output-${yyyymmddthhmmss}.txt\n",
    "with open(f\"output-{model_name}-{datetime.now().strftime('%Y%m%dT%H%M%S')}-{question}.txt\", \"w\") as f:\n",
    "    f.write(f\"model: {model_name}\\n\")\n",
    "    f.write(\"time: \" + str(end_time - start_time) + \"\\n\")\n",
    "    f.write(\"question: \" + question + \"\\n\")\n",
    "    f.write(\"answer: \" + response.choices[0][\"message\"][\"content\"].strip() + \"\\n\")\n"
   ]
  },
  {
   "cell_type": "code",
   "execution_count": 28,
   "id": "235a168a-053f-4f52-90a9-f892e78dda5c",
   "metadata": {
    "tags": []
   },
   "outputs": [
    {
     "name": "stdout",
     "output_type": "stream",
     "text": [
      "私の若いころ、もっと傷つきやすかった時に、父が私に忠告をしてくれた。それ以来、私はその言葉を繰り返し考えてきた。\n",
      "\n",
      "「誰かを批判したい気持ちが湧いてきたら、」父は言った。「世界の人々がみんなあなたと同じような恵みを持っているわけではないということを念頭に置いておくのだ。」\n",
      "\n",
      "彼はそれ以上何も言わなかったけれど、私たちはいつも普通の家庭よりも寡黙だが意思疎通が取れている。そこで私は彼が言おうとしていたことは何かもっと大事なことを意味しているのだと理解した。それが原因で私はあらゆる判断を慎むようになったが、それが私に 多くの奇妙な人間性を開かせると同時に、数多くの退屈な古株に翻弄される羽目にもなった。異常な心は、普通の人にこのような質が表れたときにすぐに見つけ出し、憑依しようとする。そして大学で私は、風変わりでなじみがない男たちの秘密の悲しみを知っていたので、政治家に例えたりされることがあった。ほとんどの機密は求められてもいないのに、私は若者たちの親密な告白、少なくともそれをどのように表現するかについては、普通は盗作であり、明らかな抑圧で傷つけている。判断を留保することは、無限の希望の問題である。私がまだ父が勝手に提案し、私が勝手に繰り返す基本的な礼儀が誕生時に均等に与えられているという意識を忘れると、何か大事なことを見逃すのではないかと少し怯えている。\n",
      "elapsed time: 0:01:18.561551\n"
     ]
    },
    {
     "ename": "OSError",
     "evalue": "[Errno 36] File name too long: 'output-gpt-4-20230403T202907-\\n以下の文章を日本語に翻訳してください。\\nそのときに、以下の翻訳を参考にしてください。\\nまた翻訳したら、その結果に対して、文意が通るように、翻訳を再度、校正してください。\\n\\nぼくがまだ年若く、いまよりもっと傷つきやすい心を持っていた時分に、父がある忠告を与えてくれたけれど、爾来ぼくは、その忠告を、心の中でくりかえし反芻してきた。\\n「ひとを批判したいような気持が起きた場合にはだな」と、父は言うのである「この世の中の人がみんなおまえと同じように恵まれているわけではないということを、ちょっと思い出してみるのだ」\\n翻訳対象の文章\\n\\n\\nIn my younger and more vulnerable years my father gave me some advice that I\\'ve been turning over in my mind ever since.\\n\\n\"Whenever you feel like criticizing any one,\" he told me, \"just remember that all the people in this world haven\\'t had the advantages that you\\'ve had.\"\\n\\nHe didn\\'t say any more but we\\'ve always been unusually communicative in a reserved way, and I understood that he meant a great deal more than that. In consequence I\\'m inclined to reserve all judgments, a habit that has opened up many curious natures to me and also made me the victim of not a few veteran bores. The abnormal mind is quick to detect and attach itself to this quality when it appears in a normal person, and so it came about that in college I was unjustly accused of being a politician, because I was privy to the secret griefs of wild, unknown men. Most of the confidences were unsought—frequently I have feigned sleep, preoccupation, or a hostile levity when I realized by some unmistakable sign that an intimate revelation was quivering on the horizon—for the intimate revelations of young men or at least the terms in which they express them are usually plagiaristic and marred by obvious suppressions. Reserving judgments is a matter of infinite hope. I am still a little afraid of missing something if I forget that, as my father snobbishly suggested, and I snobbishly repeat, a sense of the fundamental decencies is parcelled out unequally at birth.\\n\\n.txt'",
     "output_type": "error",
     "traceback": [
      "\u001b[0;31m---------------------------------------------------------------------------\u001b[0m",
      "\u001b[0;31mOSError\u001b[0m                                   Traceback (most recent call last)",
      "Cell \u001b[0;32mIn[28], line 26\u001b[0m\n\u001b[1;32m     23\u001b[0m \u001b[38;5;28mprint\u001b[39m(\u001b[38;5;124mf\u001b[39m\u001b[38;5;124m\"\u001b[39m\u001b[38;5;124melapsed time: \u001b[39m\u001b[38;5;132;01m{\u001b[39;00mend_time\u001b[38;5;250m \u001b[39m\u001b[38;5;241m-\u001b[39m\u001b[38;5;250m \u001b[39mstart_time\u001b[38;5;132;01m}\u001b[39;00m\u001b[38;5;124m\"\u001b[39m)\n\u001b[1;32m     25\u001b[0m \u001b[38;5;66;03m# write to output-${yyyymmddthhmmss}.txt\u001b[39;00m\n\u001b[0;32m---> 26\u001b[0m \u001b[38;5;28;01mwith\u001b[39;00m \u001b[38;5;28;43mopen\u001b[39;49m\u001b[43m(\u001b[49m\u001b[38;5;124;43mf\u001b[39;49m\u001b[38;5;124;43m\"\u001b[39;49m\u001b[38;5;124;43moutput-\u001b[39;49m\u001b[38;5;132;43;01m{\u001b[39;49;00m\u001b[43mmodel_name\u001b[49m\u001b[38;5;132;43;01m}\u001b[39;49;00m\u001b[38;5;124;43m-\u001b[39;49m\u001b[38;5;132;43;01m{\u001b[39;49;00m\u001b[43mdatetime\u001b[49m\u001b[38;5;241;43m.\u001b[39;49m\u001b[43mnow\u001b[49m\u001b[43m(\u001b[49m\u001b[43m)\u001b[49m\u001b[38;5;241;43m.\u001b[39;49m\u001b[43mstrftime\u001b[49m\u001b[43m(\u001b[49m\u001b[38;5;124;43m'\u001b[39;49m\u001b[38;5;124;43m%\u001b[39;49m\u001b[38;5;124;43mY\u001b[39;49m\u001b[38;5;124;43m%\u001b[39;49m\u001b[38;5;124;43mm\u001b[39;49m\u001b[38;5;132;43;01m%d\u001b[39;49;00m\u001b[38;5;124;43mT\u001b[39;49m\u001b[38;5;124;43m%\u001b[39;49m\u001b[38;5;124;43mH\u001b[39;49m\u001b[38;5;124;43m%\u001b[39;49m\u001b[38;5;124;43mM\u001b[39;49m\u001b[38;5;124;43m%\u001b[39;49m\u001b[38;5;124;43mS\u001b[39;49m\u001b[38;5;124;43m'\u001b[39;49m\u001b[43m)\u001b[49m\u001b[38;5;132;43;01m}\u001b[39;49;00m\u001b[38;5;124;43m-\u001b[39;49m\u001b[38;5;132;43;01m{\u001b[39;49;00m\u001b[43mquestion\u001b[49m\u001b[38;5;132;43;01m}\u001b[39;49;00m\u001b[38;5;124;43m.txt\u001b[39;49m\u001b[38;5;124;43m\"\u001b[39;49m\u001b[43m,\u001b[49m\u001b[43m \u001b[49m\u001b[38;5;124;43m\"\u001b[39;49m\u001b[38;5;124;43mw\u001b[39;49m\u001b[38;5;124;43m\"\u001b[39;49m\u001b[43m)\u001b[49m \u001b[38;5;28;01mas\u001b[39;00m f:\n\u001b[1;32m     27\u001b[0m     f\u001b[38;5;241m.\u001b[39mwrite(\u001b[38;5;124mf\u001b[39m\u001b[38;5;124m\"\u001b[39m\u001b[38;5;124mmodel: \u001b[39m\u001b[38;5;132;01m{\u001b[39;00mmodel_name\u001b[38;5;132;01m}\u001b[39;00m\u001b[38;5;130;01m\\n\u001b[39;00m\u001b[38;5;124m\"\u001b[39m)\n\u001b[1;32m     28\u001b[0m     f\u001b[38;5;241m.\u001b[39mwrite(\u001b[38;5;124m\"\u001b[39m\u001b[38;5;124mtime: \u001b[39m\u001b[38;5;124m\"\u001b[39m \u001b[38;5;241m+\u001b[39m \u001b[38;5;28mstr\u001b[39m(end_time \u001b[38;5;241m-\u001b[39m start_time) \u001b[38;5;241m+\u001b[39m \u001b[38;5;124m\"\u001b[39m\u001b[38;5;130;01m\\n\u001b[39;00m\u001b[38;5;124m\"\u001b[39m)\n",
      "File \u001b[0;32m~/.pyenv/versions/3.10.9/envs/local_llm/lib/python3.10/site-packages/IPython/core/interactiveshell.py:284\u001b[0m, in \u001b[0;36m_modified_open\u001b[0;34m(file, *args, **kwargs)\u001b[0m\n\u001b[1;32m    277\u001b[0m \u001b[38;5;28;01mif\u001b[39;00m file \u001b[38;5;129;01min\u001b[39;00m {\u001b[38;5;241m0\u001b[39m, \u001b[38;5;241m1\u001b[39m, \u001b[38;5;241m2\u001b[39m}:\n\u001b[1;32m    278\u001b[0m     \u001b[38;5;28;01mraise\u001b[39;00m \u001b[38;5;167;01mValueError\u001b[39;00m(\n\u001b[1;32m    279\u001b[0m         \u001b[38;5;124mf\u001b[39m\u001b[38;5;124m\"\u001b[39m\u001b[38;5;124mIPython won\u001b[39m\u001b[38;5;124m'\u001b[39m\u001b[38;5;124mt let you open fd=\u001b[39m\u001b[38;5;132;01m{\u001b[39;00mfile\u001b[38;5;132;01m}\u001b[39;00m\u001b[38;5;124m by default \u001b[39m\u001b[38;5;124m\"\u001b[39m\n\u001b[1;32m    280\u001b[0m         \u001b[38;5;124m\"\u001b[39m\u001b[38;5;124mas it is likely to crash IPython. If you know what you are doing, \u001b[39m\u001b[38;5;124m\"\u001b[39m\n\u001b[1;32m    281\u001b[0m         \u001b[38;5;124m\"\u001b[39m\u001b[38;5;124myou can use builtins\u001b[39m\u001b[38;5;124m'\u001b[39m\u001b[38;5;124m open.\u001b[39m\u001b[38;5;124m\"\u001b[39m\n\u001b[1;32m    282\u001b[0m     )\n\u001b[0;32m--> 284\u001b[0m \u001b[38;5;28;01mreturn\u001b[39;00m \u001b[43mio_open\u001b[49m\u001b[43m(\u001b[49m\u001b[43mfile\u001b[49m\u001b[43m,\u001b[49m\u001b[43m \u001b[49m\u001b[38;5;241;43m*\u001b[39;49m\u001b[43margs\u001b[49m\u001b[43m,\u001b[49m\u001b[43m \u001b[49m\u001b[38;5;241;43m*\u001b[39;49m\u001b[38;5;241;43m*\u001b[39;49m\u001b[43mkwargs\u001b[49m\u001b[43m)\u001b[49m\n",
      "\u001b[0;31mOSError\u001b[0m: [Errno 36] File name too long: 'output-gpt-4-20230403T202907-\\n以下の文章を日本語に翻訳してください。\\nそのときに、以下の翻訳を参考にしてください。\\nまた翻訳したら、その結果に対して、文意が通るように、翻訳を再度、校正してください。\\n\\nぼくがまだ年若く、いまよりもっと傷つきやすい心を持っていた時分に、父がある忠告を与えてくれたけれど、爾来ぼくは、その忠告を、心の中でくりかえし反芻してきた。\\n「ひとを批判したいような気持が起きた場合にはだな」と、父は言うのである「この世の中の人がみんなおまえと同じように恵まれているわけではないということを、ちょっと思い出してみるのだ」\\n翻訳対象の文章\\n\\n\\nIn my younger and more vulnerable years my father gave me some advice that I\\'ve been turning over in my mind ever since.\\n\\n\"Whenever you feel like criticizing any one,\" he told me, \"just remember that all the people in this world haven\\'t had the advantages that you\\'ve had.\"\\n\\nHe didn\\'t say any more but we\\'ve always been unusually communicative in a reserved way, and I understood that he meant a great deal more than that. In consequence I\\'m inclined to reserve all judgments, a habit that has opened up many curious natures to me and also made me the victim of not a few veteran bores. The abnormal mind is quick to detect and attach itself to this quality when it appears in a normal person, and so it came about that in college I was unjustly accused of being a politician, because I was privy to the secret griefs of wild, unknown men. Most of the confidences were unsought—frequently I have feigned sleep, preoccupation, or a hostile levity when I realized by some unmistakable sign that an intimate revelation was quivering on the horizon—for the intimate revelations of young men or at least the terms in which they express them are usually plagiaristic and marred by obvious suppressions. Reserving judgments is a matter of infinite hope. I am still a little afraid of missing something if I forget that, as my father snobbishly suggested, and I snobbishly repeat, a sense of the fundamental decencies is parcelled out unequally at birth.\\n\\n.txt'"
     ]
    }
   ],
   "source": [
    "import openai\n",
    "import os\n",
    "from datetime import datetime\n",
    "\n",
    "start_time = datetime.now()\n",
    "\n",
    "openai.api_key = os.getenv(\"OPENAI_API_KEY\")\n",
    "# model_name = \"gpt-4\"\n",
    "model_name = \"gpt-4\"\n",
    "\n",
    "question = third\n",
    "\n",
    "response = openai.ChatCompletion.create(\n",
    "    model=model_name,\n",
    "    messages=[\n",
    "        {\"role\": \"user\", \"content\": question},\n",
    "    ],\n",
    ")\n",
    "\n",
    "end_time = datetime.now()\n",
    "\n",
    "print(response.choices[0][\"message\"][\"content\"].strip())\n",
    "print(f\"elapsed time: {end_time - start_time}\")\n",
    "\n",
    "# write to output-${yyyymmddthhmmss}.txt\n",
    "with open(f\"output-{model_name}-{datetime.now().strftime('%Y%m%dT%H%M%S')}-{question}.txt\", \"w\") as f:\n",
    "    f.write(f\"model: {model_name}\\n\")\n",
    "    f.write(\"time: \" + str(end_time - start_time) + \"\\n\")\n",
    "    f.write(\"question: \" + question + \"\\n\")\n",
    "    f.write(\"answer: \" + response.choices[0][\"message\"][\"content\"].strip() + \"\\n\")\n"
   ]
  },
  {
   "cell_type": "code",
   "execution_count": 31,
   "id": "f1a22964-5aa3-4505-8312-8a25d95e723f",
   "metadata": {
    "tags": []
   },
   "outputs": [
    {
     "name": "stdout",
     "output_type": "stream",
     "text": [
      "私が若く、今よりも傷つきやすい心を持っていた時、父が私に忠告をしてくれたのを、今でも心の中で繰り返し考えている。\n",
      "\n",
      "「誰かを批判したい気持ちが湧いてきたら」と、彼は言ったのさ、「この世の中で、あなたが持っている利点をみんなが持っているわけではないことを思い出してください」\n",
      "\n",
      "それ以上は何も言わなかったが、私たちはいつも控えめな方法で非常に意思疎通ができていたので、彼が言いたいことはそれ以上の意味があることが分かった。その結果、私はあらゆる評価を控えるようになり、多くの奇妙な人間性を私に開かせる一方で、少なくとも何人かのベテランなお調子者の犠牲にもなった。異常な心は、普通の人に現れたときにこの資質をすぐに見つけ出し、付き合わせようとするので、私は大学で政治家であるという理由で不当に非難されるようになった。というのも、私はこれまで知らなかった人々の秘密の悲しみに立ち会っていたからだ。大抵の告白は求められることがなく、友人が何かを打ち明けようとする明確な兆候に気づいたとき、寝たふりや気をそらすふりをし、あるいは敵意ある軽薄さを演じることが多かった。若者の親密な告白や、少なくともそれを言い表す言葉は、だいたいが盗作であり、明らかに抑圧されている。評価を控えることは、無限の希望の問題でもある。私は、父が上品に提案し、私が上品に繰り返すように、根本的な礼節の感覚が出生時に不平等に分配されていることを忘れてしまうと、何かを見逃してしまうのではないかと今でも少し恐れている。\n",
      "elapsed time: 0:01:26.824960\n"
     ]
    },
    {
     "ename": "OSError",
     "evalue": "[Errno 36] File name too long: 'output-gpt-4-20230403T203638-\\n以下の文章を日本語にしてください。\\nそのときに、以下の翻訳を参考にして、翻訳例を強く意識して作業をしてください。\\nまた翻訳したら、その結果に対して、文意が通るように、翻訳を再度、校正してください。\\n翻訳に際し、正しい翻訳よりも自然な文体であることを意識してください。\\n\\nぼくがまだ年若く、いまよりもっと傷つきやすい心を持っていた時分に、父がある忠告を与えてくれたけれど、爾来ぼくは、その忠告を、心の中でくりかえし反芻してきた。\\n「ひとを批判したいような気持が起きた場合にはだな」と、父は言うのである「この世の中の人がみんなおまえと同じように恵まれているわけではないということを、ちょっと思い出してみるのだ」\\n翻訳対象の文章\\n\\n\\nIn my younger and more vulnerable years my father gave me some advice that I\\'ve been turning over in my mind ever since.\\n\\n\"Whenever you feel like criticizing any one,\" he told me, \"just remember that all the people in this world haven\\'t had the advantages that you\\'ve had.\"\\n\\nHe didn\\'t say any more but we\\'ve always been unusually communicative in a reserved way, and I understood that he meant a great deal more than that. In consequence I\\'m inclined to reserve all judgments, a habit that has opened up many curious natures to me and also made me the victim of not a few veteran bores. The abnormal mind is quick to detect and attach itself to this quality when it appears in a normal person, and so it came about that in college I was unjustly accused of being a politician, because I was privy to the secret griefs of wild, unknown men. Most of the confidences were unsought—frequently I have feigned sleep, preoccupation, or a hostile levity when I realized by some unmistakable sign that an intimate revelation was quivering on the horizon—for the intimate revelations of young men or at least the terms in which they express them are usually plagiaristic and marred by obvious suppressions. Reserving judgments is a matter of infinite hope. I am still a little afraid of missing something if I forget that, as my father snobbishly suggested, and I snobbishly repeat, a sense of the fundamental decencies is parcelled out unequally at birth.\\n\\n.txt'",
     "output_type": "error",
     "traceback": [
      "\u001b[0;31m---------------------------------------------------------------------------\u001b[0m",
      "\u001b[0;31mOSError\u001b[0m                                   Traceback (most recent call last)",
      "Cell \u001b[0;32mIn[31], line 26\u001b[0m\n\u001b[1;32m     23\u001b[0m \u001b[38;5;28mprint\u001b[39m(\u001b[38;5;124mf\u001b[39m\u001b[38;5;124m\"\u001b[39m\u001b[38;5;124melapsed time: \u001b[39m\u001b[38;5;132;01m{\u001b[39;00mend_time\u001b[38;5;250m \u001b[39m\u001b[38;5;241m-\u001b[39m\u001b[38;5;250m \u001b[39mstart_time\u001b[38;5;132;01m}\u001b[39;00m\u001b[38;5;124m\"\u001b[39m)\n\u001b[1;32m     25\u001b[0m \u001b[38;5;66;03m# write to output-${yyyymmddthhmmss}.txt\u001b[39;00m\n\u001b[0;32m---> 26\u001b[0m \u001b[38;5;28;01mwith\u001b[39;00m \u001b[38;5;28;43mopen\u001b[39;49m\u001b[43m(\u001b[49m\u001b[38;5;124;43mf\u001b[39;49m\u001b[38;5;124;43m\"\u001b[39;49m\u001b[38;5;124;43moutput-\u001b[39;49m\u001b[38;5;132;43;01m{\u001b[39;49;00m\u001b[43mmodel_name\u001b[49m\u001b[38;5;132;43;01m}\u001b[39;49;00m\u001b[38;5;124;43m-\u001b[39;49m\u001b[38;5;132;43;01m{\u001b[39;49;00m\u001b[43mdatetime\u001b[49m\u001b[38;5;241;43m.\u001b[39;49m\u001b[43mnow\u001b[49m\u001b[43m(\u001b[49m\u001b[43m)\u001b[49m\u001b[38;5;241;43m.\u001b[39;49m\u001b[43mstrftime\u001b[49m\u001b[43m(\u001b[49m\u001b[38;5;124;43m'\u001b[39;49m\u001b[38;5;124;43m%\u001b[39;49m\u001b[38;5;124;43mY\u001b[39;49m\u001b[38;5;124;43m%\u001b[39;49m\u001b[38;5;124;43mm\u001b[39;49m\u001b[38;5;132;43;01m%d\u001b[39;49;00m\u001b[38;5;124;43mT\u001b[39;49m\u001b[38;5;124;43m%\u001b[39;49m\u001b[38;5;124;43mH\u001b[39;49m\u001b[38;5;124;43m%\u001b[39;49m\u001b[38;5;124;43mM\u001b[39;49m\u001b[38;5;124;43m%\u001b[39;49m\u001b[38;5;124;43mS\u001b[39;49m\u001b[38;5;124;43m'\u001b[39;49m\u001b[43m)\u001b[49m\u001b[38;5;132;43;01m}\u001b[39;49;00m\u001b[38;5;124;43m-\u001b[39;49m\u001b[38;5;132;43;01m{\u001b[39;49;00m\u001b[43mquestion\u001b[49m\u001b[38;5;132;43;01m}\u001b[39;49;00m\u001b[38;5;124;43m.txt\u001b[39;49m\u001b[38;5;124;43m\"\u001b[39;49m\u001b[43m,\u001b[49m\u001b[43m \u001b[49m\u001b[38;5;124;43m\"\u001b[39;49m\u001b[38;5;124;43mw\u001b[39;49m\u001b[38;5;124;43m\"\u001b[39;49m\u001b[43m)\u001b[49m \u001b[38;5;28;01mas\u001b[39;00m f:\n\u001b[1;32m     27\u001b[0m     f\u001b[38;5;241m.\u001b[39mwrite(\u001b[38;5;124mf\u001b[39m\u001b[38;5;124m\"\u001b[39m\u001b[38;5;124mmodel: \u001b[39m\u001b[38;5;132;01m{\u001b[39;00mmodel_name\u001b[38;5;132;01m}\u001b[39;00m\u001b[38;5;130;01m\\n\u001b[39;00m\u001b[38;5;124m\"\u001b[39m)\n\u001b[1;32m     28\u001b[0m     f\u001b[38;5;241m.\u001b[39mwrite(\u001b[38;5;124m\"\u001b[39m\u001b[38;5;124mtime: \u001b[39m\u001b[38;5;124m\"\u001b[39m \u001b[38;5;241m+\u001b[39m \u001b[38;5;28mstr\u001b[39m(end_time \u001b[38;5;241m-\u001b[39m start_time) \u001b[38;5;241m+\u001b[39m \u001b[38;5;124m\"\u001b[39m\u001b[38;5;130;01m\\n\u001b[39;00m\u001b[38;5;124m\"\u001b[39m)\n",
      "File \u001b[0;32m~/.pyenv/versions/3.10.9/envs/local_llm/lib/python3.10/site-packages/IPython/core/interactiveshell.py:284\u001b[0m, in \u001b[0;36m_modified_open\u001b[0;34m(file, *args, **kwargs)\u001b[0m\n\u001b[1;32m    277\u001b[0m \u001b[38;5;28;01mif\u001b[39;00m file \u001b[38;5;129;01min\u001b[39;00m {\u001b[38;5;241m0\u001b[39m, \u001b[38;5;241m1\u001b[39m, \u001b[38;5;241m2\u001b[39m}:\n\u001b[1;32m    278\u001b[0m     \u001b[38;5;28;01mraise\u001b[39;00m \u001b[38;5;167;01mValueError\u001b[39;00m(\n\u001b[1;32m    279\u001b[0m         \u001b[38;5;124mf\u001b[39m\u001b[38;5;124m\"\u001b[39m\u001b[38;5;124mIPython won\u001b[39m\u001b[38;5;124m'\u001b[39m\u001b[38;5;124mt let you open fd=\u001b[39m\u001b[38;5;132;01m{\u001b[39;00mfile\u001b[38;5;132;01m}\u001b[39;00m\u001b[38;5;124m by default \u001b[39m\u001b[38;5;124m\"\u001b[39m\n\u001b[1;32m    280\u001b[0m         \u001b[38;5;124m\"\u001b[39m\u001b[38;5;124mas it is likely to crash IPython. If you know what you are doing, \u001b[39m\u001b[38;5;124m\"\u001b[39m\n\u001b[1;32m    281\u001b[0m         \u001b[38;5;124m\"\u001b[39m\u001b[38;5;124myou can use builtins\u001b[39m\u001b[38;5;124m'\u001b[39m\u001b[38;5;124m open.\u001b[39m\u001b[38;5;124m\"\u001b[39m\n\u001b[1;32m    282\u001b[0m     )\n\u001b[0;32m--> 284\u001b[0m \u001b[38;5;28;01mreturn\u001b[39;00m \u001b[43mio_open\u001b[49m\u001b[43m(\u001b[49m\u001b[43mfile\u001b[49m\u001b[43m,\u001b[49m\u001b[43m \u001b[49m\u001b[38;5;241;43m*\u001b[39;49m\u001b[43margs\u001b[49m\u001b[43m,\u001b[49m\u001b[43m \u001b[49m\u001b[38;5;241;43m*\u001b[39;49m\u001b[38;5;241;43m*\u001b[39;49m\u001b[43mkwargs\u001b[49m\u001b[43m)\u001b[49m\n",
      "\u001b[0;31mOSError\u001b[0m: [Errno 36] File name too long: 'output-gpt-4-20230403T203638-\\n以下の文章を日本語にしてください。\\nそのときに、以下の翻訳を参考にして、翻訳例を強く意識して作業をしてください。\\nまた翻訳したら、その結果に対して、文意が通るように、翻訳を再度、校正してください。\\n翻訳に際し、正しい翻訳よりも自然な文体であることを意識してください。\\n\\nぼくがまだ年若く、いまよりもっと傷つきやすい心を持っていた時分に、父がある忠告を与えてくれたけれど、爾来ぼくは、その忠告を、心の中でくりかえし反芻してきた。\\n「ひとを批判したいような気持が起きた場合にはだな」と、父は言うのである「この世の中の人がみんなおまえと同じように恵まれているわけではないということを、ちょっと思い出してみるのだ」\\n翻訳対象の文章\\n\\n\\nIn my younger and more vulnerable years my father gave me some advice that I\\'ve been turning over in my mind ever since.\\n\\n\"Whenever you feel like criticizing any one,\" he told me, \"just remember that all the people in this world haven\\'t had the advantages that you\\'ve had.\"\\n\\nHe didn\\'t say any more but we\\'ve always been unusually communicative in a reserved way, and I understood that he meant a great deal more than that. In consequence I\\'m inclined to reserve all judgments, a habit that has opened up many curious natures to me and also made me the victim of not a few veteran bores. The abnormal mind is quick to detect and attach itself to this quality when it appears in a normal person, and so it came about that in college I was unjustly accused of being a politician, because I was privy to the secret griefs of wild, unknown men. Most of the confidences were unsought—frequently I have feigned sleep, preoccupation, or a hostile levity when I realized by some unmistakable sign that an intimate revelation was quivering on the horizon—for the intimate revelations of young men or at least the terms in which they express them are usually plagiaristic and marred by obvious suppressions. Reserving judgments is a matter of infinite hope. I am still a little afraid of missing something if I forget that, as my father snobbishly suggested, and I snobbishly repeat, a sense of the fundamental decencies is parcelled out unequally at birth.\\n\\n.txt'"
     ]
    }
   ],
   "source": [
    "import openai\n",
    "import os\n",
    "from datetime import datetime\n",
    "\n",
    "start_time = datetime.now()\n",
    "\n",
    "openai.api_key = os.getenv(\"OPENAI_API_KEY\")\n",
    "# model_name = \"gpt-4\"\n",
    "model_name = \"gpt-4\"\n",
    "\n",
    "question = fourth\n",
    "\n",
    "response = openai.ChatCompletion.create(\n",
    "    model=model_name,\n",
    "    messages=[\n",
    "        {\"role\": \"user\", \"content\": question},\n",
    "    ],\n",
    ")\n",
    "\n",
    "end_time = datetime.now()\n",
    "\n",
    "print(response.choices[0][\"message\"][\"content\"].strip())\n",
    "print(f\"elapsed time: {end_time - start_time}\")\n",
    "\n",
    "# write to output-${yyyymmddthhmmss}.txt\n",
    "with open(f\"output-{model_name}-{datetime.now().strftime('%Y%m%dT%H%M%S')}-{question}.txt\", \"w\") as f:\n",
    "    f.write(f\"model: {model_name}\\n\")\n",
    "    f.write(\"time: \" + str(end_time - start_time) + \"\\n\")\n",
    "    f.write(\"question: \" + question + \"\\n\")\n",
    "    f.write(\"answer: \" + response.choices[0][\"message\"][\"content\"].strip() + \"\\n\")\n"
   ]
  },
  {
   "cell_type": "code",
   "execution_count": null,
   "id": "5769a7ee-0c70-4292-99bf-329b9c42035b",
   "metadata": {},
   "outputs": [],
   "source": []
  },
  {
   "cell_type": "code",
   "execution_count": null,
   "id": "bb06d924-e991-4f94-8e81-4f5b9f2b47f3",
   "metadata": {},
   "outputs": [],
   "source": []
  },
  {
   "cell_type": "code",
   "execution_count": 20,
   "id": "0f268c6b-0147-440a-a3ad-be4aed5827fd",
   "metadata": {
    "tags": []
   },
   "outputs": [],
   "source": [
    "response2 = response"
   ]
  },
  {
   "cell_type": "code",
   "execution_count": 22,
   "id": "c788d9de-fc5e-4798-9580-0d80d4c09f80",
   "metadata": {
    "tags": []
   },
   "outputs": [
    {
     "name": "stdout",
     "output_type": "stream",
     "text": [
      "私が若く、今よりも心が傷つきやすかったころ、父は私にあるアドバイスをくれましたが、それ以来私はそのアドバイスを心の中で繰り返し味わってきました。\n",
      "「他人を批判したいと思ったとき」と父は言いました。「少しだけ、世の中の人々が皆、あなたと同じように恵まれているわけではないということを思い出してみてください」\n",
      "\n",
      "この翻訳の特徴: 異なる表現や単語を使用していますが、元のテキストの意味を正確に伝えることに焦点を当てています。また、より自然な日本語の表現を使用しています。\n",
      "elapsed time: 0:00:32.888547\n"
     ]
    },
    {
     "ename": "OSError",
     "evalue": "[Errno 36] File name too long: 'output-gpt-4-20230403T201418-\\n以下の文章を日本語に翻訳してください。\\nそのときに、以下の翻訳を参考にしてください。\\nその上で、この翻訳の特徴についても教えてください。\\nぼくがまだ年若く、いまよりもっと傷つきやすい心を持っていた時分に、父がある忠告を与えてくれたけれど、爾来ぼくは、その忠告を、心の中でくりかえし反芻してきた。\\n「ひとを批判したいような気持が起きた場合にはだな」と、父は言うのである「この世の中の人がみんなおまえと同じように恵まれているわけではないということを、ちょっと思い出してみるのだ」\\n.txt'",
     "output_type": "error",
     "traceback": [
      "\u001b[0;31m---------------------------------------------------------------------------\u001b[0m",
      "\u001b[0;31mOSError\u001b[0m                                   Traceback (most recent call last)",
      "Cell \u001b[0;32mIn[22], line 26\u001b[0m\n\u001b[1;32m     23\u001b[0m \u001b[38;5;28mprint\u001b[39m(\u001b[38;5;124mf\u001b[39m\u001b[38;5;124m\"\u001b[39m\u001b[38;5;124melapsed time: \u001b[39m\u001b[38;5;132;01m{\u001b[39;00mend_time\u001b[38;5;250m \u001b[39m\u001b[38;5;241m-\u001b[39m\u001b[38;5;250m \u001b[39mstart_time\u001b[38;5;132;01m}\u001b[39;00m\u001b[38;5;124m\"\u001b[39m)\n\u001b[1;32m     25\u001b[0m \u001b[38;5;66;03m# write to output-${yyyymmddthhmmss}.txt\u001b[39;00m\n\u001b[0;32m---> 26\u001b[0m \u001b[38;5;28;01mwith\u001b[39;00m \u001b[38;5;28;43mopen\u001b[39;49m\u001b[43m(\u001b[49m\u001b[38;5;124;43mf\u001b[39;49m\u001b[38;5;124;43m\"\u001b[39;49m\u001b[38;5;124;43moutput-\u001b[39;49m\u001b[38;5;132;43;01m{\u001b[39;49;00m\u001b[43mmodel_name\u001b[49m\u001b[38;5;132;43;01m}\u001b[39;49;00m\u001b[38;5;124;43m-\u001b[39;49m\u001b[38;5;132;43;01m{\u001b[39;49;00m\u001b[43mdatetime\u001b[49m\u001b[38;5;241;43m.\u001b[39;49m\u001b[43mnow\u001b[49m\u001b[43m(\u001b[49m\u001b[43m)\u001b[49m\u001b[38;5;241;43m.\u001b[39;49m\u001b[43mstrftime\u001b[49m\u001b[43m(\u001b[49m\u001b[38;5;124;43m'\u001b[39;49m\u001b[38;5;124;43m%\u001b[39;49m\u001b[38;5;124;43mY\u001b[39;49m\u001b[38;5;124;43m%\u001b[39;49m\u001b[38;5;124;43mm\u001b[39;49m\u001b[38;5;132;43;01m%d\u001b[39;49;00m\u001b[38;5;124;43mT\u001b[39;49m\u001b[38;5;124;43m%\u001b[39;49m\u001b[38;5;124;43mH\u001b[39;49m\u001b[38;5;124;43m%\u001b[39;49m\u001b[38;5;124;43mM\u001b[39;49m\u001b[38;5;124;43m%\u001b[39;49m\u001b[38;5;124;43mS\u001b[39;49m\u001b[38;5;124;43m'\u001b[39;49m\u001b[43m)\u001b[49m\u001b[38;5;132;43;01m}\u001b[39;49;00m\u001b[38;5;124;43m-\u001b[39;49m\u001b[38;5;132;43;01m{\u001b[39;49;00m\u001b[43mquestion\u001b[49m\u001b[38;5;132;43;01m}\u001b[39;49;00m\u001b[38;5;124;43m.txt\u001b[39;49m\u001b[38;5;124;43m\"\u001b[39;49m\u001b[43m,\u001b[49m\u001b[43m \u001b[49m\u001b[38;5;124;43m\"\u001b[39;49m\u001b[38;5;124;43mw\u001b[39;49m\u001b[38;5;124;43m\"\u001b[39;49m\u001b[43m)\u001b[49m \u001b[38;5;28;01mas\u001b[39;00m f:\n\u001b[1;32m     27\u001b[0m     f\u001b[38;5;241m.\u001b[39mwrite(\u001b[38;5;124mf\u001b[39m\u001b[38;5;124m\"\u001b[39m\u001b[38;5;124mmodel: \u001b[39m\u001b[38;5;132;01m{\u001b[39;00mmodel_name\u001b[38;5;132;01m}\u001b[39;00m\u001b[38;5;130;01m\\n\u001b[39;00m\u001b[38;5;124m\"\u001b[39m)\n\u001b[1;32m     28\u001b[0m     f\u001b[38;5;241m.\u001b[39mwrite(\u001b[38;5;124m\"\u001b[39m\u001b[38;5;124mtime: \u001b[39m\u001b[38;5;124m\"\u001b[39m \u001b[38;5;241m+\u001b[39m \u001b[38;5;28mstr\u001b[39m(end_time \u001b[38;5;241m-\u001b[39m start_time) \u001b[38;5;241m+\u001b[39m \u001b[38;5;124m\"\u001b[39m\u001b[38;5;130;01m\\n\u001b[39;00m\u001b[38;5;124m\"\u001b[39m)\n",
      "File \u001b[0;32m~/.pyenv/versions/3.10.9/envs/local_llm/lib/python3.10/site-packages/IPython/core/interactiveshell.py:284\u001b[0m, in \u001b[0;36m_modified_open\u001b[0;34m(file, *args, **kwargs)\u001b[0m\n\u001b[1;32m    277\u001b[0m \u001b[38;5;28;01mif\u001b[39;00m file \u001b[38;5;129;01min\u001b[39;00m {\u001b[38;5;241m0\u001b[39m, \u001b[38;5;241m1\u001b[39m, \u001b[38;5;241m2\u001b[39m}:\n\u001b[1;32m    278\u001b[0m     \u001b[38;5;28;01mraise\u001b[39;00m \u001b[38;5;167;01mValueError\u001b[39;00m(\n\u001b[1;32m    279\u001b[0m         \u001b[38;5;124mf\u001b[39m\u001b[38;5;124m\"\u001b[39m\u001b[38;5;124mIPython won\u001b[39m\u001b[38;5;124m'\u001b[39m\u001b[38;5;124mt let you open fd=\u001b[39m\u001b[38;5;132;01m{\u001b[39;00mfile\u001b[38;5;132;01m}\u001b[39;00m\u001b[38;5;124m by default \u001b[39m\u001b[38;5;124m\"\u001b[39m\n\u001b[1;32m    280\u001b[0m         \u001b[38;5;124m\"\u001b[39m\u001b[38;5;124mas it is likely to crash IPython. If you know what you are doing, \u001b[39m\u001b[38;5;124m\"\u001b[39m\n\u001b[1;32m    281\u001b[0m         \u001b[38;5;124m\"\u001b[39m\u001b[38;5;124myou can use builtins\u001b[39m\u001b[38;5;124m'\u001b[39m\u001b[38;5;124m open.\u001b[39m\u001b[38;5;124m\"\u001b[39m\n\u001b[1;32m    282\u001b[0m     )\n\u001b[0;32m--> 284\u001b[0m \u001b[38;5;28;01mreturn\u001b[39;00m \u001b[43mio_open\u001b[49m\u001b[43m(\u001b[49m\u001b[43mfile\u001b[49m\u001b[43m,\u001b[49m\u001b[43m \u001b[49m\u001b[38;5;241;43m*\u001b[39;49m\u001b[43margs\u001b[49m\u001b[43m,\u001b[49m\u001b[43m \u001b[49m\u001b[38;5;241;43m*\u001b[39;49m\u001b[38;5;241;43m*\u001b[39;49m\u001b[43mkwargs\u001b[49m\u001b[43m)\u001b[49m\n",
      "\u001b[0;31mOSError\u001b[0m: [Errno 36] File name too long: 'output-gpt-4-20230403T201418-\\n以下の文章を日本語に翻訳してください。\\nそのときに、以下の翻訳を参考にしてください。\\nその上で、この翻訳の特徴についても教えてください。\\nぼくがまだ年若く、いまよりもっと傷つきやすい心を持っていた時分に、父がある忠告を与えてくれたけれど、爾来ぼくは、その忠告を、心の中でくりかえし反芻してきた。\\n「ひとを批判したいような気持が起きた場合にはだな」と、父は言うのである「この世の中の人がみんなおまえと同じように恵まれているわけではないということを、ちょっと思い出してみるのだ」\\n.txt'"
     ]
    }
   ],
   "source": [
    "import openai\n",
    "import os\n",
    "from datetime import datetime\n",
    "\n",
    "start_time = datetime.now()\n",
    "\n",
    "openai.api_key = os.getenv(\"OPENAI_API_KEY\")\n",
    "# model_name = \"gpt-4\"\n",
    "model_name = \"gpt-4\"\n",
    "\n",
    "question = second\n",
    "\n",
    "response = openai.ChatCompletion.create(\n",
    "    model=model_name,\n",
    "    messages=[\n",
    "        {\"role\": \"user\", \"content\": question},\n",
    "    ],\n",
    ")\n",
    "\n",
    "end_time = datetime.now()\n",
    "\n",
    "print(response.choices[0][\"message\"][\"content\"].strip())\n",
    "print(f\"elapsed time: {end_time - start_time}\")\n",
    "\n",
    "# write to output-${yyyymmddthhmmss}.txt\n",
    "#with open(f\"output-{model_name}-{datetime.now().strftime('%Y%m%dT%H%M%S')}-{question}.txt\", \"w\") as f:\n",
    " #   f.write(f\"model: {model_name}\\n\")\n",
    "  #  f.write(\"time: \" + str(end_time - start_time) + \"\\n\")\n",
    "   # f.write(\"question: \" + question + \"\\n\")\n",
    "    #f.write(\"answer: \" + response.choices[0][\"message\"][\"content\"].strip() + \"\\n\")\n"
   ]
  },
  {
   "cell_type": "code",
   "execution_count": null,
   "id": "08eb580d-4d4a-4eed-b0cd-40c8b9ff5c91",
   "metadata": {
    "tags": []
   },
   "outputs": [],
   "source": [
    "response"
   ]
  },
  {
   "cell_type": "code",
   "execution_count": null,
   "id": "29e83783-e381-492a-bb0c-4c670b52978c",
   "metadata": {},
   "outputs": [],
   "source": [
    "import openai\n",
    "import os\n",
    "from datetime import datetime\n",
    "\n",
    "start_time = datetime.now()\n",
    "\n",
    "openai.api_key = os.getenv(\"OPENAI_API_KEY\")\n",
    "# model_name = \"gpt-4\"\n",
    "model_name = \"gpt-4\"\n",
    "\n",
    "question = first\n",
    "\n",
    "response = openai.ChatCompletion.create(\n",
    "    model=model_name,\n",
    "    messages=[\n",
    "        {\"role\": \"user\", \"content\": question},\n",
    "    ],\n",
    ")\n",
    "\n",
    "end_time = datetime.now()\n",
    "\n",
    "print(response.choices[0][\"message\"][\"content\"].strip())\n",
    "print(f\"elapsed time: {end_time - start_time}\")\n",
    "\n",
    "# write to output-${yyyymmddthhmmss}.txt\n",
    "with open(f\"output-{model_name}-{datetime.now().strftime('%Y%m%dT%H%M%S')}-{question}.txt\", \"w\") as f:\n",
    "    f.write(f\"model: {model_name}\\n\")\n",
    "    f.write(\"time: \" + str(end_time - start_time) + \"\\n\")\n",
    "    f.write(\"question: \" + question + \"\\n\")\n",
    "    f.write(\"answer: \" + response.choices[0][\"message\"][\"content\"].strip() + \"\\n\")\n"
   ]
  },
  {
   "cell_type": "code",
   "execution_count": 14,
   "id": "11523a25-acbc-49a7-bee3-0a98f01c04eb",
   "metadata": {
    "tags": []
   },
   "outputs": [
    {
     "data": {
      "text/plain": [
       "'私が若く、もっと傷つきやすい年頃だった頃、父は私に、以来ずっと頭の中で繰り返し考えているアドバイスをくれた。\\n\\n「誰かを批判したい気持ちになったら、」彼は私に言った。「この世の人々が自分が持っている利点を持っていないことを思い出してください。」\\n\\n彼はこれ以上何も言わなかったが、私たちはいつも予約のある方法で異常にコミュニケーションが取れていて、彼が言いたかったことはもっと大きな意味があることがわかりました。その結果、私はすべての判断を保留する傾向があり、それが私に多くの奇妙な性格を引き寄せ、また何人かの熟練した退屈な人々の犠牲者にさせました。異常な心は、正常な人に現れるとすぐにそれを検出し、自分に取り込む性質があります。そのため、大学では、私が野生の未知の男たちの秘密の悩みを知っていたため、政治家であるという理由で不当に非難されました。それらの告白のほとんどは求められていなかった。明らかな抑圧によって損なわれた、若者たちの親密な告白、または少なくともそれらが表現される言葉は、通常は盗用されています。判断を留保することは、無限の希望の問題です。今でも、父親がかしこまって提案し、私がかしこまって繰り返すように、生まれたときに基本的な礼儀が不平等に配分されることを忘れると、何かを逃すのが怖いです。'"
      ]
     },
     "execution_count": 14,
     "metadata": {},
     "output_type": "execute_result"
    }
   ],
   "source": [
    "response.choices[0][\"message\"][\"content\"].strip()"
   ]
  },
  {
   "cell_type": "code",
   "execution_count": null,
   "id": "0198a4d2-1813-459e-898d-201755504fb8",
   "metadata": {},
   "outputs": [],
   "source": []
  },
  {
   "cell_type": "code",
   "execution_count": null,
   "id": "3f2f108f-595f-4f3b-aa2b-d577cdd6b927",
   "metadata": {
    "tags": []
   },
   "outputs": [],
   "source": [
    "feature = '''The style of The Great Gatsby is wry, sophisticated, and elegiac, employing extended metaphors, figurative imagery, and poetic language to create a sense of nostalgia and loss. The book can be read as an extended elegy, or poetic lament, for Gatsby – “the man who gives his name to this book… who represented everything for which I have an unaffected scorn.” Throughout the novel Nick references the fact that he is creating a written account of a time past – one he remembers with nostalgia and fondness. One of the most frequently occurring words in the book is ‘time,’ and the word ‘past’ appears often, as well, suggesting the act of remembrance and recollection. Fitzgerald describes Gatsby as an exceptionally graceful, stylish, and elegant character, and the novel’s flowing, musical sentences underscore this impression. When talking about other characters, however, the elevated, metaphoric language often creates ironic contrast with the crude nature of the characters themselves. Many of his descriptions contain an undertone of ridicule, with the most sympathetic, wistful passages reserved for the character of Gatsby and for Nick’s lost innocence.'''"
   ]
  },
  {
   "cell_type": "code",
   "execution_count": null,
   "id": "762e7d3b-3f0d-437e-99f6-89823b25a210",
   "metadata": {},
   "outputs": [],
   "source": [
    "#ただし以下の特徴を反映した翻訳にしてください。\n",
    "#The style of The Great Gatsby is wry, sophisticated, and elegiac, employing extended metaphors, figurative imagery, and poetic language to create a sense of nostalgia and loss. The book can be read as an extended elegy, or poetic lament, for Gatsby – “the man who gives his name to this book… who represented everything for which I have an unaffected scorn.” Throughout the novel Nick references the fact that he is creating a written account of a time past – one he remembers with nostalgia and fondness. One of the most frequently occurring words in the book is ‘time,’ and the word ‘past’ appears often, as well, suggesting the act of remembrance and recollection. Fitzgerald describes Gatsby as an exceptionally graceful, stylish, and elegant character, and the novel’s flowing, musical sentences underscore this impression. When talking about other characters, however, the elevated, metaphoric language often creates ironic contrast with the crude nature of the characters themselves. Many of his descriptions contain an undertone of ridicule, with the most sympathetic, wistful passages reserved for the character of Gatsby and for Nick’s lost innocence."
   ]
  },
  {
   "cell_type": "code",
   "execution_count": null,
   "id": "f8b528a0-37b2-4551-8790-986d84225aac",
   "metadata": {},
   "outputs": [],
   "source": [
    "response"
   ]
  }
 ],
 "metadata": {
  "kernelspec": {
   "display_name": "Python 3 (ipykernel)",
   "language": "python",
   "name": "python3"
  },
  "language_info": {
   "codemirror_mode": {
    "name": "ipython",
    "version": 3
   },
   "file_extension": ".py",
   "mimetype": "text/x-python",
   "name": "python",
   "nbconvert_exporter": "python",
   "pygments_lexer": "ipython3",
   "version": "3.10.10"
  }
 },
 "nbformat": 4,
 "nbformat_minor": 5
}
